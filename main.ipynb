{
 "cells": [
  {
   "cell_type": "markdown",
   "metadata": {},
   "source": [
    "## Notebook Configuration"
   ]
  },
  {
   "cell_type": "code",
   "execution_count": 1,
   "metadata": {},
   "outputs": [],
   "source": [
    "%load_ext autoreload\n",
    "%autoreload 2"
   ]
  },
  {
   "cell_type": "code",
   "execution_count": 2,
   "metadata": {},
   "outputs": [
    {
     "name": "stdout",
     "output_type": "stream",
     "text": [
      "Requirement already satisfied: scikit-learn in /Users/adamtomys/anaconda3/envs/data_mining/lib/python3.11/site-packages (1.4.1.post1)\n",
      "Requirement already satisfied: pandas in /Users/adamtomys/anaconda3/envs/data_mining/lib/python3.11/site-packages (2.2.1)\n",
      "Requirement already satisfied: matplotlib in /Users/adamtomys/anaconda3/envs/data_mining/lib/python3.11/site-packages (3.8.3)\n",
      "Requirement already satisfied: numpy<2.0,>=1.19.5 in /Users/adamtomys/anaconda3/envs/data_mining/lib/python3.11/site-packages (from scikit-learn) (1.25.2)\n",
      "Requirement already satisfied: scipy>=1.6.0 in /Users/adamtomys/anaconda3/envs/data_mining/lib/python3.11/site-packages (from scikit-learn) (1.11.4)\n",
      "Requirement already satisfied: joblib>=1.2.0 in /Users/adamtomys/anaconda3/envs/data_mining/lib/python3.11/site-packages (from scikit-learn) (1.3.2)\n",
      "Requirement already satisfied: threadpoolctl>=2.0.0 in /Users/adamtomys/anaconda3/envs/data_mining/lib/python3.11/site-packages (from scikit-learn) (3.4.0)\n",
      "Requirement already satisfied: python-dateutil>=2.8.2 in /Users/adamtomys/anaconda3/envs/data_mining/lib/python3.11/site-packages (from pandas) (2.9.0)\n",
      "Requirement already satisfied: pytz>=2020.1 in /Users/adamtomys/anaconda3/envs/data_mining/lib/python3.11/site-packages (from pandas) (2023.3.post1)\n",
      "Requirement already satisfied: tzdata>=2022.7 in /Users/adamtomys/anaconda3/envs/data_mining/lib/python3.11/site-packages (from pandas) (2023.3)\n",
      "Requirement already satisfied: contourpy>=1.0.1 in /Users/adamtomys/anaconda3/envs/data_mining/lib/python3.11/site-packages (from matplotlib) (1.2.0)\n",
      "Requirement already satisfied: cycler>=0.10 in /Users/adamtomys/anaconda3/envs/data_mining/lib/python3.11/site-packages (from matplotlib) (0.12.1)\n",
      "Requirement already satisfied: fonttools>=4.22.0 in /Users/adamtomys/anaconda3/envs/data_mining/lib/python3.11/site-packages (from matplotlib) (4.49.0)\n",
      "Requirement already satisfied: kiwisolver>=1.3.1 in /Users/adamtomys/anaconda3/envs/data_mining/lib/python3.11/site-packages (from matplotlib) (1.4.5)\n",
      "Requirement already satisfied: packaging>=20.0 in /Users/adamtomys/anaconda3/envs/data_mining/lib/python3.11/site-packages (from matplotlib) (23.2)\n",
      "Requirement already satisfied: pillow>=8 in /Users/adamtomys/anaconda3/envs/data_mining/lib/python3.11/site-packages (from matplotlib) (10.2.0)\n",
      "Requirement already satisfied: pyparsing>=2.3.1 in /Users/adamtomys/anaconda3/envs/data_mining/lib/python3.11/site-packages (from matplotlib) (3.1.2)\n",
      "Requirement already satisfied: six>=1.5 in /Users/adamtomys/anaconda3/envs/data_mining/lib/python3.11/site-packages (from python-dateutil>=2.8.2->pandas) (1.16.0)\n"
     ]
    }
   ],
   "source": [
    "!pip install scikit-learn pandas matplotlib"
   ]
  },
  {
   "cell_type": "code",
   "execution_count": 3,
   "metadata": {},
   "outputs": [],
   "source": [
    "import warnings\n",
    "def warn(*args, **kwargs):\n",
    "    pass\n",
    "warnings.warn = warn\n",
    "warnings.filterwarnings(\"ignore\", category=UserWarning)"
   ]
  },
  {
   "cell_type": "code",
   "execution_count": 4,
   "metadata": {},
   "outputs": [],
   "source": [
    "from sklearn import set_config\n",
    "set_config(transform_output=\"pandas\")\n",
    "set_config(display='diagram')"
   ]
  },
  {
   "cell_type": "markdown",
   "metadata": {},
   "source": [
    "## Necessary imports"
   ]
  },
  {
   "cell_type": "code",
   "execution_count": 5,
   "metadata": {},
   "outputs": [],
   "source": [
    "import pandas as pd\n",
    "import numpy as np\n",
    "from utilities import *\n",
    "from sklearn.impute import SimpleImputer\n",
    "from sklearn.preprocessing import MinMaxScaler, OneHotEncoder\n",
    "from sklearn.compose import ColumnTransformer, make_column_selector, TransformedTargetRegressor\n",
    "from sklearn.pipeline import Pipeline\n",
    "from sklearn.ensemble import RandomForestRegressor\n",
    "from sklearn.svm import SVR\n",
    "from sklearn.linear_model import Ridge\n",
    "from sklearn.tree import DecisionTreeRegressor"
   ]
  },
  {
   "cell_type": "markdown",
   "metadata": {},
   "source": [
    "## Load Data"
   ]
  },
  {
   "cell_type": "code",
   "execution_count": 6,
   "metadata": {},
   "outputs": [],
   "source": [
    "X_train, y_train, X_test, y_test = load_data()"
   ]
  },
  {
   "cell_type": "markdown",
   "metadata": {},
   "source": [
    "## Preprocess experiments"
   ]
  },
  {
   "cell_type": "code",
   "execution_count": 7,
   "metadata": {},
   "outputs": [],
   "source": [
    "from sklearn.neural_network import MLPRegressor\n",
    "\n",
    "ITERATIONS = 50\n",
    "regresion_function = MLPRegressor(alpha=1e-05, hidden_layer_sizes=(128, 128), )\n",
    "regresion_function = SVR()\n",
    "regresion_function = DecisionTreeRegressor()"
   ]
  },
  {
   "cell_type": "code",
   "execution_count": 8,
   "metadata": {},
   "outputs": [],
   "source": [
    "model_errors = {}"
   ]
  },
  {
   "cell_type": "markdown",
   "metadata": {},
   "source": [
    "### Baseline"
   ]
  },
  {
   "cell_type": "markdown",
   "metadata": {},
   "source": [
    "Simple model which is baseline for future experiments  \n",
    "Pipeline split data into discrete and continous columns  \n",
    "For numerical data fill Nan cells with 0  \n",
    "For categorical data fill Nan cells with \"missing\" category and aplly Label Encoder  "
   ]
  },
  {
   "cell_type": "code",
   "execution_count": 9,
   "metadata": {},
   "outputs": [],
   "source": [
    "categorical_pipeline = Pipeline(steps=[\n",
    "    ('imputer', SimpleImputer(strategy='constant', fill_value='missing')),\n",
    "    ('encoder', CategoricalEncoder())\n",
    "])\n",
    "\n",
    "numerical_pipeline = Pipeline(steps=[\n",
    "    ('imputer', SimpleImputer(strategy='constant', fill_value=0)),\n",
    "])\n",
    "\n",
    "preprocessor = ColumnTransformer(transformers=[\n",
    "    ('cat', categorical_pipeline, make_column_selector(dtype_include=object)),\n",
    "    ('num', numerical_pipeline, make_column_selector(dtype_exclude=object)),\n",
    "])\n",
    "model = Pipeline(steps=[\n",
    "    ('preprocessor', preprocessor),\n",
    "    ('regressor', regresion_function)\n",
    "])\n",
    "model_errors[\"1.baseline\"] = test_model(model, X_train, y_train, X_test, y_test, ITERATIONS)"
   ]
  },
  {
   "cell_type": "code",
   "execution_count": 10,
   "metadata": {},
   "outputs": [],
   "source": [
    "categorical_pipeline = Pipeline(steps=[\n",
    "    ('imputer', SimpleImputer(strategy='most_frequent')),\n",
    "    ('encoder', CategoricalEncoder())\n",
    "])\n",
    "\n",
    "numerical_pipeline = Pipeline(steps=[\n",
    "    ('imputer', SimpleImputer(strategy='constant', fill_value=0)),\n",
    "])\n",
    "\n",
    "preprocessor = ColumnTransformer(transformers=[\n",
    "    ('cat', categorical_pipeline, make_column_selector(dtype_include=object)),\n",
    "    ('num', numerical_pipeline, make_column_selector(dtype_exclude=object)),\n",
    "])\n",
    "model = Pipeline(steps=[\n",
    "    ('column_dropper', ColumnDropperTransformer(to_remove=[\"Id\"], threshold=2)),\n",
    "    ('preprocessor', preprocessor),\n",
    "    ('regressor', regresion_function)\n",
    "])\n",
    "model_errors[\"0.baseline fill majority\"] = test_model(model, X_train, y_train, X_test, y_test, ITERATIONS)"
   ]
  },
  {
   "cell_type": "markdown",
   "metadata": {},
   "source": [
    "### Remove Null and corellated columns"
   ]
  },
  {
   "cell_type": "markdown",
   "metadata": {},
   "source": [
    "Add ColumnDropperTransformer() which remove:\n",
    "- \"Id\" column\n",
    "- columns correlated to another in dataset with low correlation to target - 'GarageArea', \"GarageYrBlt\", 'TotRmsAbvGrd', \"1stFlrSF\"\n",
    "- columns with Null-s in more that 90% of raws"
   ]
  },
  {
   "cell_type": "code",
   "execution_count": 11,
   "metadata": {},
   "outputs": [],
   "source": [
    "categorical_pipeline = Pipeline(steps=[\n",
    "    ('imputer', SimpleImputer(strategy=\"most_frequent\")),\n",
    "    ('encoder', OneHotEncoder(handle_unknown='ignore', sparse_output=False))\n",
    "])\n",
    "\n",
    "numerical_pipeline = Pipeline(steps=[\n",
    "    ('imputer', SimpleImputer(strategy='constant', fill_value=0)),\n",
    "])\n",
    "\n",
    "preprocessor = ColumnTransformer(transformers=[\n",
    "    ('cat', categorical_pipeline, make_column_selector(dtype_include=object)),\n",
    "    ('num', numerical_pipeline, make_column_selector(dtype_exclude=object)),\n",
    "])\n",
    "model = Pipeline(steps=[\n",
    "    ('column_dropper', ColumnDropperTransformer(to_remove=[\"Id\"], threshold=2)),\n",
    "    ('preprocessor', preprocessor),\n",
    "    ('regressor', regresion_function)\n",
    "])\n",
    "model_errors[\"0.+OneHotEncoder\"] = test_model(model, X_train, y_train, X_test, y_test, ITERATIONS)"
   ]
  },
  {
   "cell_type": "code",
   "execution_count": 12,
   "metadata": {},
   "outputs": [],
   "source": [
    "categorical_pipeline = Pipeline(steps=[\n",
    "    ('imputer', SimpleImputer(strategy='constant', fill_value='missing')),\n",
    "    ('encoder', CategoricalEncoder())\n",
    "])\n",
    "\n",
    "numerical_pipeline = Pipeline(steps=[\n",
    "    ('imputer', SimpleImputer(strategy='constant', fill_value=0)),\n",
    "])\n",
    "\n",
    "preprocessor = ColumnTransformer(transformers=[\n",
    "    ('cat', categorical_pipeline, make_column_selector(dtype_include=object)),\n",
    "    ('num', numerical_pipeline, make_column_selector(dtype_exclude=object)),\n",
    "])\n",
    "model = Pipeline(steps=[\n",
    "    ('column_dropper', ColumnDropperTransformer()),\n",
    "    ('preprocessor', preprocessor),\n",
    "    ('regressor', regresion_function)\n",
    "])\n",
    "model_errors[\"2.-columns\"] = test_model(model, X_train, y_train, X_test, y_test, ITERATIONS)"
   ]
  },
  {
   "cell_type": "markdown",
   "metadata": {},
   "source": [
    "### Add One Hot Encoder"
   ]
  },
  {
   "cell_type": "markdown",
   "metadata": {},
   "source": [
    "Change discrete columns encoder to OneHotEncoder"
   ]
  },
  {
   "cell_type": "code",
   "execution_count": 13,
   "metadata": {},
   "outputs": [],
   "source": [
    "categorical_pipeline = Pipeline(steps=[\n",
    "    ('imputer', SimpleImputer(strategy='constant', fill_value='missing')),\n",
    "    ('encoder', OneHotEncoder(handle_unknown='ignore', sparse_output=False))\n",
    "])\n",
    "\n",
    "numerical_pipeline = Pipeline(steps=[\n",
    "    ('imputer', SimpleImputer(strategy='constant', fill_value=0)),\n",
    "])\n",
    "\n",
    "preprocessor = ColumnTransformer(transformers=[\n",
    "    ('cat', categorical_pipeline, make_column_selector(dtype_include=object)),\n",
    "    ('num', numerical_pipeline, make_column_selector(dtype_exclude=object)),\n",
    "])\n",
    "model = Pipeline(steps=[\n",
    "    ('column_dropper', ColumnDropperTransformer()),\n",
    "    ('preprocessor', preprocessor),\n",
    "    ('regressor', regresion_function)\n",
    "])\n",
    "model_errors[\"3.+OneHotEncoder\"] = test_model(model, X_train, y_train, X_test, y_test, ITERATIONS)"
   ]
  },
  {
   "cell_type": "markdown",
   "metadata": {},
   "source": [
    "### Normalize numeric data with MinMax"
   ]
  },
  {
   "cell_type": "markdown",
   "metadata": {},
   "source": [
    "Normalize continuous columns with MinMax"
   ]
  },
  {
   "cell_type": "code",
   "execution_count": 14,
   "metadata": {},
   "outputs": [],
   "source": [
    "categorical_pipeline = Pipeline(steps=[\n",
    "    ('imputer', SimpleImputer(strategy='constant', fill_value='missing')),\n",
    "    ('encoder', OneHotEncoder(handle_unknown='ignore', sparse_output=False))\n",
    "])\n",
    "\n",
    "numerical_pipeline = Pipeline(steps=[\n",
    "    ('imputer', SimpleImputer(strategy='constant', fill_value=0)),\n",
    "    ('normalizer', MinMaxScaler())\n",
    "])\n",
    "\n",
    "preprocessor = ColumnTransformer(transformers=[\n",
    "    ('cat', categorical_pipeline, make_column_selector(dtype_include=object)),\n",
    "    ('num', numerical_pipeline, make_column_selector(dtype_exclude=object)),\n",
    "])\n",
    "model = Pipeline(steps=[\n",
    "    ('column_dropper', ColumnDropperTransformer()),\n",
    "    ('preprocessor', preprocessor),\n",
    "    ('regressor', regresion_function)\n",
    "])\n",
    "model_errors[\"4.+numNormalize\"] = test_model(model, X_train, y_train, X_test, y_test, ITERATIONS)"
   ]
  },
  {
   "cell_type": "markdown",
   "metadata": {},
   "source": [
    "### Remove outliers"
   ]
  },
  {
   "cell_type": "markdown",
   "metadata": {},
   "source": [
    "Specifies the minimum frequency below which a category will be considered infrequent to 0.001  \n",
    "Specifies an upper limit to the number of output features for each input categorical feature to 10  \n",
    "Continous data points that are lesser than the 0.1th percentile are replaced with  \n",
    "the 0.1th percentile value and the data points that are greater than the 99.9th  \n",
    "percentile are replaced with 99.9th percentile value."
   ]
  },
  {
   "cell_type": "code",
   "execution_count": 15,
   "metadata": {},
   "outputs": [],
   "source": [
    "categorical_pipeline = Pipeline(steps=[\n",
    "    ('imputer', SimpleImputer(strategy='constant', fill_value='missing')),\n",
    "    ('encoder', OneHotEncoder(handle_unknown='ignore', drop=\"if_binary\", max_categories=10, min_frequency=0.001, sparse_output=False))\n",
    "])\n",
    "\n",
    "numerical_pipeline = Pipeline(steps=[\n",
    "    ('imputer', SimpleImputer(strategy='constant', fill_value=0)),\n",
    "    ('remove_outliers', OutlierTransformer()),\n",
    "    ('normalizer', MinMaxScaler())\n",
    "])\n",
    "\n",
    "preprocessor = ColumnTransformer(transformers=[\n",
    "    ('cat', categorical_pipeline, make_column_selector(dtype_include=object)),\n",
    "    ('num', numerical_pipeline, make_column_selector(dtype_exclude=object)),\n",
    "])\n",
    "model = Pipeline(steps=[\n",
    "    ('column_dropper', ColumnDropperTransformer()),\n",
    "    ('preprocessor', preprocessor),\n",
    "    ('regressor', regresion_function)\n",
    "])\n",
    "model_errors[\"5.-outliers\"] = test_model(model, X_train, y_train, X_test, y_test, ITERATIONS)"
   ]
  },
  {
   "cell_type": "code",
   "execution_count": 16,
   "metadata": {},
   "outputs": [],
   "source": [
    "categorical_pipeline = Pipeline(steps=[\n",
    "    ('imputer', SimpleImputer(strategy='constant', fill_value='missing')),\n",
    "    ('encoder', OneHotEncoder(handle_unknown='ignore', drop=\"if_binary\", max_categories=10, min_frequency=0.001, sparse_output=False))\n",
    "])\n",
    "\n",
    "numerical_pipeline = Pipeline(steps=[\n",
    "    ('imputer', SimpleImputer(strategy='constant', fill_value=0)),\n",
    "    ('remove_outliers', OutlierTransformer()),\n",
    "    ('normalizer', MinMaxScaler())\n",
    "])\n",
    "\n",
    "categorical_to_numerical_pipeline = Pipeline(steps=[\n",
    "    ('NumericalEncoder1', NumericalEncoder([\"ExterQual\", \"ExterCond\", \"KitchenQual\"], [\"Po\", \"Fa\", \"TA\", \"Gd\", \"Ex\"])),\n",
    "    ('NumericalEncoder1.5', NumericalEncoder([\"BsmtQual\", \"BsmtCond\", \"HeatingQC\",\n",
    "           \"FireplaceQu\", \"GarageQual\", \"GarageCond\"], [\"Po\", \"Fa\", \"TA\", \"Gd\", \"Ex\"], 1)),\n",
    "    ('NumericalEncoder2', NumericalEncoder([\"BsmtExposure\"], [\"No\", \"Mn\", \"Av\", \"Gd\"], -1)),\n",
    "    ('NumericalEncoder3', NumericalEncoder([\"PavedDrive\"], [\"N\", \"P\", \"Y\"])),\n",
    "    ('NumericalEncoder4', NumericalEncoder([\"GarageFinish\"], [\"Unf\", \"RFn\", \"Fin\"])),\n",
    "    ('NumericalEncoder5', NumericalEncoder([\"BsmtFinType1\", \"BsmtFinType2\"], [\"Unf\", \"LwQ\", \"Rec\", \"BLQ\", \"ALQ\", \"GLQ\"], 2)),\n",
    "    ('NumericalEncoder6', NumericalEncoder([\"Functional\"], [\"Sal\", \"Sev\", \"Maj2\", \"Maj1\", \"Mod\", \"Min2\", \"Min1\", \"Typ\"])),\n",
    "])\n",
    "\n",
    "preprocessor = ColumnTransformer(transformers=[\n",
    "    ('cat', categorical_pipeline, make_column_selector(dtype_include=object)),\n",
    "    ('num', numerical_pipeline, make_column_selector(dtype_exclude=object)),\n",
    "])\n",
    "model = Pipeline(steps=[\n",
    "    ('column_dropper', ColumnDropperTransformer()),\n",
    "    ('categorical_to_numerical', categorical_to_numerical_pipeline),\n",
    "    ('preprocessor', preprocessor),\n",
    "    ('regressor', regresion_function)\n",
    "])\n",
    "model_errors[\"6.ToNumerical\"] = test_model(model, X_train, y_train, X_test, y_test, ITERATIONS)"
   ]
  },
  {
   "cell_type": "code",
   "execution_count": 17,
   "metadata": {},
   "outputs": [
    {
     "data": {
      "image/png": "[encoded data removed]",
      "text/plain": [
       "<Figure size 1000x700 with 1 Axes>"
      ]
     },
     "metadata": {},
     "output_type": "display_data"
    }
   ],
   "source": [
    "compare_errors(model_errors)"
   ]
  }
 ],
 "metadata": {
  "kernelspec": {
   "display_name": "DataMining",
   "language": "python",
   "name": "python3"
  },
  "language_info": {
   "codemirror_mode": {
    "name": "ipython",
    "version": 3
   },
   "file_extension": ".py",
   "mimetype": "text/x-python",
   "name": "python",
   "nbconvert_exporter": "python",
   "pygments_lexer": "ipython3",
   "version": "3.11.8"
  }
 },
 "nbformat": 4,
 "nbformat_minor": 2
}
